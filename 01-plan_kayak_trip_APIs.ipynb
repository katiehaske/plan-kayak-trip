{
 "cells": [
  {
   "cell_type": "markdown",
   "metadata": {},
   "source": [
    "# Planning my next vacay ☀️\n",
    "\n",
    "This project uses APIs and web-scraping techniques to determine the plus beau places to spontaneously visit.\n",
    "\n",
    "Here are the 35 best places to visit in France in 2020 based on <a href=\"https://one-week-in.com/35-cities-to-visit-in-france/\" target=\"_blank\">this website</a>:\n",
    "\n",
    "```python\n",
    "[\"Mont Saint Michel\",\n",
    "\"St Malo\",\n",
    "\"Bayeux\",\n",
    "\"Le Havre\",\n",
    "\"Rouen\",\n",
    "\"Paris\",\n",
    "\"Amiens\",\n",
    "\"Lille\",\n",
    "\"Strasbourg\",\n",
    "\"Chateau du Haut Koenigsbourg\",\n",
    "\"Colmar\",\n",
    "\"Eguisheim\",\n",
    "\"Besancon\",\n",
    "\"Dijon\",\n",
    "\"Annecy\",\n",
    "\"Grenoble\",\n",
    "\"Lyon\",\n",
    "\"Gorges du Verdon\",\n",
    "\"Bormes les Mimosas\",\n",
    "\"Cassis\",\n",
    "\"Marseille\",\n",
    "\"Aix en Provence\",\n",
    "\"Avignon\",\n",
    "\"Uzes\",\n",
    "\"Nimes\",\n",
    "\"Aigues Mortes\",\n",
    "\"Saintes Maries de la mer\",\n",
    "\"Collioure\",\n",
    "\"Carcassonne\",\n",
    "\"Ariege\",\n",
    "\"Toulouse\",\n",
    "\"Montauban\",\n",
    "\"Biarritz\",\n",
    "\"Bayonne\",\n",
    "\"La Rochelle\"]\n",
    "```\n",
    "\n",
    "1. Get coordinates of all cities with <a href=\"https://nominatim.org/\" target=\"_blank\">https://nominatim.org/</a>.\n",
    "\n",
    "    Documentation: <a href=\"https://nominatim.org/release-docs/develop/api/Search/\" target=\"_blank\">https://nominatim.org/release-docs/develop/api/Search/</a>\n",
    "\n",
    "\n",
    "2. Use <a href=\"https://openweathermap.org/appid\" target=\"_blank\">https://openweathermap.org/appid</a> (you have to subscribe to get a free apikey) and <a href=\"https://openweathermap.org/api/one-call-api\" target=\"_blank\">https://openweathermap.org/api/one-call-api</a> to get weather info about the above cities and put it in a DataFrame.\n",
    "\n",
    "\n",
    "3. Determing which cities will have the nicest weather over the next week.\n",
    "\n",
    "\n",
    "4. Save everything results to a csv file.\n",
    "\n",
    "\n",
    "5. Use plotly to display the best destinations on a map."
   ]
  },
  {
   "cell_type": "code",
   "execution_count": 1,
   "metadata": {},
   "outputs": [],
   "source": [
    "import requests\n",
    "import pandas as pd\n",
    "import plotly.express as px"
   ]
  },
  {
   "cell_type": "code",
   "execution_count": 2,
   "metadata": {},
   "outputs": [],
   "source": [
    "city_names = [\n",
    "    \"Mont Saint Michel\",\n",
    "    \"St Malo\",\n",
    "    \"Bayeux\",\n",
    "    \"Le Havre\",\n",
    "    \"Rouen\",\n",
    "    \"Paris\",\n",
    "    \"Amiens\",\n",
    "    \"Lille\",\n",
    "    \"Strasbourg\",\n",
    "    \"Chateau du Haut Koenigsbourg\",\n",
    "    \"Colmar\",\n",
    "    \"Eguisheim\",\n",
    "    \"Besancon\",\n",
    "    \"Dijon\",\n",
    "    \"Annecy\",\n",
    "    \"Grenoble\",\n",
    "    \"Lyon\",\n",
    "    \"Gorges du Verdon\",\n",
    "    \"Bormes les Mimosas\",\n",
    "    \"Cassis\",\n",
    "    \"Marseille\",\n",
    "    \"Aix en Provence\",\n",
    "    \"Avignon\",\n",
    "    \"Uzes\",\n",
    "    \"Nimes\",\n",
    "    \"Aigues Mortes\",\n",
    "    \"Saintes Maries de la mer\",\n",
    "    \"Collioure\",\n",
    "    \"Carcassonne\",\n",
    "    \"Foix\",\n",
    "    \"Toulouse\",\n",
    "    \"Montauban\",\n",
    "    \"Biarritz\",\n",
    "    \"Bayonne\",\n",
    "    \"La Rochelle\"\n",
    "]"
   ]
  },
  {
   "cell_type": "code",
   "execution_count": 3,
   "metadata": {},
   "outputs": [],
   "source": [
    "df = pd.DataFrame(columns=['city_id' , 'name', 'latitude', 'longitude', 'main_weather', 'expected_rain', 'day_temperature'])"
   ]
  },
  {
   "cell_type": "code",
   "execution_count": null,
   "metadata": {},
   "outputs": [],
   "source": [
    "API_KEY = \"YOUR_API_KEY\""
   ]
  },
  {
   "cell_type": "code",
   "execution_count": null,
   "metadata": {},
   "outputs": [],
   "source": [
    "for i in range(len(city_names)):\n",
    "    \n",
    "    print(\"Making requests for {}\".format(city_names[i]))\n",
    "    \n",
    "    # Use nominatim api to get city coordinates\n",
    "    par = {\n",
    "        \"city\": city_names[i],\n",
    "        \"country\": \"France\",\n",
    "        \"format\": \"json\"\n",
    "    }\n",
    "    \n",
    "    r = requests.get('https://nominatim.openstreetmap.org/search', params=par)\n",
    "    res = r.json()\n",
    "    \n",
    "    df.loc[i,'city_id'] = i\n",
    "    df.loc[i,'name'] = city_names[i]\n",
    "    df.loc[i, 'latitude'] = res[0]['lat']\n",
    "    df.loc[i, 'longitude'] = res[0]['lon']\n",
    "    \n",
    "    # Use openweathermap api to get weather for next seven days\n",
    "    par = {\n",
    "        \"lat\": df.loc[i, 'latitude'],\n",
    "        \"lon\": df.loc[i, 'longitude'],\n",
    "        \"exclude\": \"current,minutely,hourly\",\n",
    "        \"units\": \"metric\",\n",
    "        \"appid\": API_KEY,\n",
    "    }\n",
    "\n",
    "    r = requests.get('https://api.openweathermap.org/data/2.5/onecall', params=par)\n",
    "    res = r.json()\n",
    "    \n",
    "    # Compute expected volume of rain\n",
    "    expected_rain = 0\n",
    "    print(res)\n",
    "    for d in res['daily']:\n",
    "        if 'rain' in d.keys():\n",
    "            expected_rain += d['pop']*d['rain']\n",
    "            \n",
    "    # Compute average day temperature\n",
    "    temperatures = pd.Series([d['temp']['day'] for d in res['daily']])\n",
    "    mean_temperature = temperatures.mean()\n",
    "\n",
    "    # Extract most probable weather\n",
    "    weathers = pd.Series([d['weather'][0]['main'] for d in res['daily']])\n",
    "    main_weather = weathers.mode()[0]\n",
    "    \n",
    "    df.loc[i, 'main_weather'] = main_weather\n",
    "    df.loc[i,'expected_rain'] = expected_rain\n",
    "    df.loc[i,'day_temperature'] = mean_temperature\n",
    "    "
   ]
  },
  {
   "cell_type": "code",
   "execution_count": null,
   "metadata": {},
   "outputs": [],
   "source": [
    "df.loc[:,'rank'] = df['expected_rain'].rank(method='min')\n",
    "df.loc[:,'inverted_rank'] = df['expected_rain'].rank(method='min', ascending=False)\n",
    "\n",
    "df = df.sort_values(by=['expected_rain', 'day_temperature'], ascending = [True, False]).reset_index(drop=True)\n",
    "display(df)"
   ]
  },
  {
   "cell_type": "code",
   "execution_count": null,
   "metadata": {},
   "outputs": [],
   "source": [
    "print('Best cities to visit next week: ')\n",
    "print()\n",
    "\n",
    "for i,row in df.loc[df['rank']==1,:].iterrows():\n",
    "    print(\"{} -- Mostly {} with temperature {} °C\".format(row['name'], row['main_weather'], row['day_temperature']))"
   ]
  },
  {
   "cell_type": "code",
   "execution_count": null,
   "metadata": {},
   "outputs": [],
   "source": [
    "df.loc[:,'latitude'] = df['latitude'].astype('float')\n",
    "df.loc[:,'longitude'] = df['longitude'].astype('float')\n",
    "df.loc[:,'expected_rain'] = df['expected_rain'].astype('float')\n",
    "df.loc[:,'day_temperature'] = df['day_temperature'].astype('float')\n",
    "df.loc[:,'rank'] = df['rank'].astype('int')\n",
    "df.loc[:,'inverted_rank'] = df['inverted_rank'].astype('int')"
   ]
  },
  {
   "cell_type": "code",
   "execution_count": null,
   "metadata": {},
   "outputs": [],
   "source": [
    "fig = px.scatter_mapbox(df, lat=\"latitude\", lon=\"longitude\", hover_name = 'name', zoom = 4,\n",
    "                        hover_data = ['main_weather', 'expected_rain', 'day_temperature'], \n",
    "                        color = 'day_temperature', color_continuous_scale = 'Bluered', size = 'inverted_rank',\n",
    "                        mapbox_style=\"carto-positron\")\n",
    "fig.show()"
   ]
  },
  {
   "cell_type": "code",
   "execution_count": null,
   "metadata": {},
   "outputs": [],
   "source": [
    "df.to_csv('res/1_destinations.csv', index=False)"
   ]
  }
 ],
 "metadata": {
  "kernelspec": {
   "display_name": "Python 3",
   "language": "python",
   "name": "python3"
  },
  "language_info": {
   "codemirror_mode": {
    "name": "ipython",
    "version": 3
   },
   "file_extension": ".py",
   "mimetype": "text/x-python",
   "name": "python",
   "nbconvert_exporter": "python",
   "pygments_lexer": "ipython3",
   "version": "3.8.5"
  }
 },
 "nbformat": 4,
 "nbformat_minor": 4
}
